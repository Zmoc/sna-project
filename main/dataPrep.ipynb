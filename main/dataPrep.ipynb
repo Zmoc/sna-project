{
 "cells": [
  {
   "cell_type": "markdown",
   "metadata": {},
   "source": [
    "Notebook to perform and document data cleaning process"
   ]
  },
  {
   "cell_type": "code",
   "execution_count": 9,
   "metadata": {},
   "outputs": [],
   "source": [
    "# Import libraries\n",
    "\n",
    "import pandas as pd\n",
    "import os"
   ]
  },
  {
   "cell_type": "code",
   "execution_count": 10,
   "metadata": {},
   "outputs": [],
   "source": [
    "# Define paths\n",
    "rootDir = os.path.dirname(os.path.abspath(\"\"))\n",
    "usrJson = os.path.join(rootDir, \"data/rawYelpData/yelp_academic_dataset_user.json\")\n",
    "#revJson = os.path.join(rootDir, \"data/rawYelpData/yelp_academic_dataset_review.json\")\n",
    "#busJson = os.path.join(rootDir, \"data/rawYelpData/yelp_academic_dataset_business.json\")\n",
    "usrFriendEdge = os.path.join(rootDir, \"data/cleanedData/friendEdge.csv\")"
   ]
  },
  {
   "cell_type": "code",
   "execution_count": 11,
   "metadata": {},
   "outputs": [],
   "source": [
    "# Define column headers\n",
    "usrCol = [\"user_id\", \"friends\"]"
   ]
  },
  {
   "cell_type": "code",
   "execution_count": 12,
   "metadata": {},
   "outputs": [],
   "source": [
    "# Loading data from user.JSON\n",
    "usrChunk = pd.read_json(usrJson, lines=True,orient=\"records\", chunksize=100000)\n",
    "\n",
    "for chunk in usrChunk:\n",
    "    chunk[\"friends\"] = chunk[\"friends\"].str.split(\",\")\n",
    "    friendChunk = chunk.explode(column=\"friends\")\n",
    "    friendChunk[\"friends\"] = friendChunk[\"friends\"].str.replace(\" \",\"\").str.strip()\n",
    "    friendChunk = friendChunk[usrCol]\n",
    "    friendChunk.to_csv(usrFriendEdge,mode=\"a\",index=False)\n"
   ]
  },
  {
   "cell_type": "code",
   "execution_count": 13,
   "metadata": {},
   "outputs": [],
   "source": [
    "# Loading data from bus.JSON\n",
    "\n",
    "#busChunk = pd.read_json(busJson, lines=True, chunksize=1000)\n",
    "\n",
    "#for chunk in busChunk:\n",
    "#    pass"
   ]
  },
  {
   "cell_type": "code",
   "execution_count": 14,
   "metadata": {},
   "outputs": [],
   "source": [
    "# Loading data from rev.JSON\n",
    "\n",
    "#revChunk = pd.read_json(revJson, lines=True, chunksize=1000)\n",
    "\n",
    "#for chunk in revChunk:\n",
    "#    pass"
   ]
  }
 ],
 "metadata": {
  "kernelspec": {
   "display_name": "Python 3",
   "language": "python",
   "name": "python3"
  },
  "language_info": {
   "codemirror_mode": {
    "name": "ipython",
    "version": 3
   },
   "file_extension": ".py",
   "mimetype": "text/x-python",
   "name": "python",
   "nbconvert_exporter": "python",
   "pygments_lexer": "ipython3",
   "version": "3.13.0"
  }
 },
 "nbformat": 4,
 "nbformat_minor": 2
}
